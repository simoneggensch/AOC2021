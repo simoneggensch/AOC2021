{
 "cells": [
  {
   "cell_type": "markdown",
   "metadata": {},
   "source": [
    "# Advent of code 2021"
   ]
  },
  {
   "cell_type": "code",
   "execution_count": null,
   "metadata": {},
   "outputs": [],
   "source": [
    "pip install aocd"
   ]
  },
  {
   "cell_type": "code",
   "execution_count": 1,
   "metadata": {},
   "outputs": [],
   "source": [
    "### imports\n",
    "\n",
    "from aocd import submit\n",
    "from aocd.models import Puzzle\n",
    "import typing as tp\n",
    "import os\n",
    "import numpy as np\n",
    "import re\n",
    "import math\n",
    "\n",
    "os.environ[\"AOC_SESSION\"]=\"53616c7465645f5f6d9daabe7926fe3860734a70143382fbf0871c7206c1f5a9c1ed3158b28de5d90b71fc296387cb5b\""
   ]
  },
  {
   "cell_type": "markdown",
   "metadata": {},
   "source": [
    "### Day 25"
   ]
  },
  {
   "cell_type": "code",
   "execution_count": null,
   "metadata": {},
   "outputs": [],
   "source": [
    "puzzle=Puzzle(year=2021,day=25)\n",
    "print(puzzle.easter_eggs)\n"
   ]
  },
  {
   "cell_type": "markdown",
   "metadata": {},
   "source": [
    "#### Part a"
   ]
  },
  {
   "cell_type": "code",
   "execution_count": null,
   "metadata": {},
   "outputs": [],
   "source": []
  },
  {
   "cell_type": "code",
   "execution_count": null,
   "metadata": {},
   "outputs": [],
   "source": [
    "puzzle.answer_a = ans_a"
   ]
  },
  {
   "cell_type": "markdown",
   "metadata": {},
   "source": [
    "#### Part b"
   ]
  },
  {
   "cell_type": "code",
   "execution_count": null,
   "metadata": {},
   "outputs": [],
   "source": []
  },
  {
   "cell_type": "code",
   "execution_count": null,
   "metadata": {},
   "outputs": [],
   "source": [
    "puzzle.answer_b = ans_b"
   ]
  },
  {
   "cell_type": "markdown",
   "metadata": {},
   "source": [
    "### Day 24"
   ]
  },
  {
   "cell_type": "code",
   "execution_count": null,
   "metadata": {},
   "outputs": [],
   "source": [
    "puzzle=Puzzle(year=2021,day=24)\n",
    "print(puzzle.easter_eggs)\n"
   ]
  },
  {
   "cell_type": "markdown",
   "metadata": {},
   "source": [
    "#### Part a"
   ]
  },
  {
   "cell_type": "code",
   "execution_count": null,
   "metadata": {},
   "outputs": [],
   "source": []
  },
  {
   "cell_type": "code",
   "execution_count": null,
   "metadata": {},
   "outputs": [],
   "source": [
    "puzzle.answer_a = ans_a"
   ]
  },
  {
   "cell_type": "markdown",
   "metadata": {},
   "source": [
    "#### Part b"
   ]
  },
  {
   "cell_type": "code",
   "execution_count": null,
   "metadata": {},
   "outputs": [],
   "source": []
  },
  {
   "cell_type": "code",
   "execution_count": null,
   "metadata": {},
   "outputs": [],
   "source": [
    "puzzle.answer_b = ans_b"
   ]
  },
  {
   "cell_type": "markdown",
   "metadata": {},
   "source": [
    "### Day 23"
   ]
  },
  {
   "cell_type": "code",
   "execution_count": null,
   "metadata": {},
   "outputs": [],
   "source": [
    "puzzle=Puzzle(year=2021,day=23)\n",
    "print(puzzle.easter_eggs)\n"
   ]
  },
  {
   "cell_type": "markdown",
   "metadata": {},
   "source": [
    "#### Part a"
   ]
  },
  {
   "cell_type": "code",
   "execution_count": null,
   "metadata": {},
   "outputs": [],
   "source": []
  },
  {
   "cell_type": "code",
   "execution_count": null,
   "metadata": {},
   "outputs": [],
   "source": [
    "puzzle.answer_a = ans_a"
   ]
  },
  {
   "cell_type": "markdown",
   "metadata": {},
   "source": [
    "#### Part b"
   ]
  },
  {
   "cell_type": "code",
   "execution_count": null,
   "metadata": {},
   "outputs": [],
   "source": []
  },
  {
   "cell_type": "code",
   "execution_count": null,
   "metadata": {},
   "outputs": [],
   "source": [
    "puzzle.answer_b = ans_b"
   ]
  },
  {
   "cell_type": "markdown",
   "metadata": {},
   "source": [
    "### Day 22"
   ]
  },
  {
   "cell_type": "code",
   "execution_count": null,
   "metadata": {},
   "outputs": [],
   "source": [
    "puzzle=Puzzle(year=2021,day=22)\n",
    "print(puzzle.easter_eggs)\n"
   ]
  },
  {
   "cell_type": "markdown",
   "metadata": {},
   "source": [
    "#### Part a"
   ]
  },
  {
   "cell_type": "code",
   "execution_count": null,
   "metadata": {},
   "outputs": [],
   "source": []
  },
  {
   "cell_type": "code",
   "execution_count": null,
   "metadata": {},
   "outputs": [],
   "source": [
    "puzzle.answer_a = ans_a"
   ]
  },
  {
   "cell_type": "markdown",
   "metadata": {},
   "source": [
    "#### Part b"
   ]
  },
  {
   "cell_type": "code",
   "execution_count": null,
   "metadata": {},
   "outputs": [],
   "source": []
  },
  {
   "cell_type": "code",
   "execution_count": null,
   "metadata": {},
   "outputs": [],
   "source": [
    "puzzle.answer_b = ans_b"
   ]
  },
  {
   "cell_type": "markdown",
   "metadata": {},
   "source": [
    "### Day 21"
   ]
  },
  {
   "cell_type": "code",
   "execution_count": null,
   "metadata": {},
   "outputs": [],
   "source": [
    "puzzle=Puzzle(year=2021,day=21)\n",
    "print(puzzle.easter_eggs)\n"
   ]
  },
  {
   "cell_type": "markdown",
   "metadata": {},
   "source": [
    "#### Part a"
   ]
  },
  {
   "cell_type": "code",
   "execution_count": null,
   "metadata": {},
   "outputs": [],
   "source": []
  },
  {
   "cell_type": "code",
   "execution_count": null,
   "metadata": {},
   "outputs": [],
   "source": [
    "puzzle.answer_a = ans_a"
   ]
  },
  {
   "cell_type": "markdown",
   "metadata": {},
   "source": [
    "#### Part b"
   ]
  },
  {
   "cell_type": "code",
   "execution_count": null,
   "metadata": {},
   "outputs": [],
   "source": []
  },
  {
   "cell_type": "code",
   "execution_count": null,
   "metadata": {},
   "outputs": [],
   "source": [
    "puzzle.answer_b = ans_b"
   ]
  },
  {
   "cell_type": "markdown",
   "metadata": {},
   "source": [
    "### Day 20"
   ]
  },
  {
   "cell_type": "code",
   "execution_count": null,
   "metadata": {},
   "outputs": [],
   "source": [
    "puzzle=Puzzle(year=2021,day=20)\n",
    "print(puzzle.easter_eggs)\n"
   ]
  },
  {
   "cell_type": "markdown",
   "metadata": {},
   "source": [
    "#### Part a"
   ]
  },
  {
   "cell_type": "code",
   "execution_count": null,
   "metadata": {},
   "outputs": [],
   "source": []
  },
  {
   "cell_type": "code",
   "execution_count": null,
   "metadata": {},
   "outputs": [],
   "source": [
    "puzzle.answer_a = ans_a"
   ]
  },
  {
   "cell_type": "markdown",
   "metadata": {},
   "source": [
    "#### Part b"
   ]
  },
  {
   "cell_type": "code",
   "execution_count": null,
   "metadata": {},
   "outputs": [],
   "source": []
  },
  {
   "cell_type": "code",
   "execution_count": null,
   "metadata": {},
   "outputs": [],
   "source": [
    "puzzle.answer_b = ans_b"
   ]
  },
  {
   "cell_type": "markdown",
   "metadata": {},
   "source": [
    "### Day 19"
   ]
  },
  {
   "cell_type": "code",
   "execution_count": null,
   "metadata": {},
   "outputs": [],
   "source": [
    "puzzle=Puzzle(year=2021,day=19)\n",
    "print(puzzle.easter_eggs)\n"
   ]
  },
  {
   "cell_type": "markdown",
   "metadata": {},
   "source": [
    "#### Part a"
   ]
  },
  {
   "cell_type": "code",
   "execution_count": null,
   "metadata": {},
   "outputs": [],
   "source": []
  },
  {
   "cell_type": "code",
   "execution_count": null,
   "metadata": {},
   "outputs": [],
   "source": [
    "puzzle.answer_a = ans_a"
   ]
  },
  {
   "cell_type": "markdown",
   "metadata": {},
   "source": [
    "#### Part b"
   ]
  },
  {
   "cell_type": "code",
   "execution_count": null,
   "metadata": {},
   "outputs": [],
   "source": []
  },
  {
   "cell_type": "code",
   "execution_count": null,
   "metadata": {},
   "outputs": [],
   "source": [
    "submit(answer=ans_b,day=3,part=\"b\",year=2021)"
   ]
  },
  {
   "cell_type": "markdown",
   "metadata": {},
   "source": [
    "### Day 18"
   ]
  },
  {
   "cell_type": "code",
   "execution_count": null,
   "metadata": {},
   "outputs": [],
   "source": [
    "puzzle=Puzzle(year=2021,day=18)\n",
    "print(puzzle.easter_eggs)\n"
   ]
  },
  {
   "cell_type": "markdown",
   "metadata": {},
   "source": [
    "#### Part a"
   ]
  },
  {
   "cell_type": "code",
   "execution_count": null,
   "metadata": {},
   "outputs": [],
   "source": []
  },
  {
   "cell_type": "code",
   "execution_count": null,
   "metadata": {},
   "outputs": [],
   "source": [
    "puzzle.answer_a = ans_a"
   ]
  },
  {
   "cell_type": "markdown",
   "metadata": {},
   "source": [
    "#### Part b"
   ]
  },
  {
   "cell_type": "code",
   "execution_count": null,
   "metadata": {},
   "outputs": [],
   "source": []
  },
  {
   "cell_type": "code",
   "execution_count": null,
   "metadata": {},
   "outputs": [],
   "source": [
    "puzzle.answer_b = ans_b"
   ]
  },
  {
   "cell_type": "markdown",
   "metadata": {},
   "source": [
    "### Day 17"
   ]
  },
  {
   "cell_type": "code",
   "execution_count": null,
   "metadata": {},
   "outputs": [],
   "source": [
    "puzzle=Puzzle(year=2021,day=17)\n",
    "print(puzzle.easter_eggs)\n"
   ]
  },
  {
   "cell_type": "markdown",
   "metadata": {},
   "source": [
    "#### Part a"
   ]
  },
  {
   "cell_type": "code",
   "execution_count": null,
   "metadata": {},
   "outputs": [],
   "source": []
  },
  {
   "cell_type": "code",
   "execution_count": null,
   "metadata": {},
   "outputs": [],
   "source": [
    "puzzle.answer_a = ans_a"
   ]
  },
  {
   "cell_type": "markdown",
   "metadata": {},
   "source": [
    "#### Part b"
   ]
  },
  {
   "cell_type": "code",
   "execution_count": null,
   "metadata": {},
   "outputs": [],
   "source": []
  },
  {
   "cell_type": "code",
   "execution_count": null,
   "metadata": {},
   "outputs": [],
   "source": [
    "puzzle.answer_b = ans_b"
   ]
  },
  {
   "cell_type": "markdown",
   "metadata": {},
   "source": [
    "### Day 16"
   ]
  },
  {
   "cell_type": "code",
   "execution_count": null,
   "metadata": {},
   "outputs": [],
   "source": [
    "puzzle=Puzzle(year=2021,day=16)\n",
    "print(puzzle.easter_eggs)\n"
   ]
  },
  {
   "cell_type": "markdown",
   "metadata": {},
   "source": [
    "#### Part a"
   ]
  },
  {
   "cell_type": "code",
   "execution_count": null,
   "metadata": {},
   "outputs": [],
   "source": []
  },
  {
   "cell_type": "code",
   "execution_count": null,
   "metadata": {},
   "outputs": [],
   "source": [
    "puzzle.answer_a = ans_a"
   ]
  },
  {
   "cell_type": "markdown",
   "metadata": {},
   "source": [
    "#### Part b"
   ]
  },
  {
   "cell_type": "code",
   "execution_count": null,
   "metadata": {},
   "outputs": [],
   "source": []
  },
  {
   "cell_type": "code",
   "execution_count": null,
   "metadata": {},
   "outputs": [],
   "source": [
    "submit(answer=ans_b,day=3,part=\"b\",year=2021)"
   ]
  },
  {
   "cell_type": "markdown",
   "metadata": {},
   "source": [
    "### Day 15"
   ]
  },
  {
   "cell_type": "code",
   "execution_count": null,
   "metadata": {},
   "outputs": [],
   "source": [
    "puzzle=Puzzle(year=2021,day=15)\n",
    "print(puzzle.easter_eggs)\n"
   ]
  },
  {
   "cell_type": "markdown",
   "metadata": {},
   "source": [
    "#### Part a"
   ]
  },
  {
   "cell_type": "code",
   "execution_count": null,
   "metadata": {},
   "outputs": [],
   "source": []
  },
  {
   "cell_type": "code",
   "execution_count": null,
   "metadata": {},
   "outputs": [],
   "source": [
    "puzzle.answer_a = ans_a"
   ]
  },
  {
   "cell_type": "markdown",
   "metadata": {},
   "source": [
    "#### Part b"
   ]
  },
  {
   "cell_type": "code",
   "execution_count": null,
   "metadata": {},
   "outputs": [],
   "source": []
  },
  {
   "cell_type": "code",
   "execution_count": null,
   "metadata": {},
   "outputs": [],
   "source": [
    "puzzle.answer_b = ans_b"
   ]
  },
  {
   "cell_type": "markdown",
   "metadata": {},
   "source": [
    "### Day 14"
   ]
  },
  {
   "cell_type": "code",
   "execution_count": null,
   "metadata": {},
   "outputs": [],
   "source": [
    "puzzle=Puzzle(year=2021,day=14)\n",
    "print(puzzle.easter_eggs)\n"
   ]
  },
  {
   "cell_type": "markdown",
   "metadata": {},
   "source": [
    "#### Part a"
   ]
  },
  {
   "cell_type": "code",
   "execution_count": null,
   "metadata": {},
   "outputs": [],
   "source": []
  },
  {
   "cell_type": "code",
   "execution_count": null,
   "metadata": {},
   "outputs": [],
   "source": [
    "puzzle.answer_a = ans_a"
   ]
  },
  {
   "cell_type": "markdown",
   "metadata": {},
   "source": [
    "#### Part b"
   ]
  },
  {
   "cell_type": "code",
   "execution_count": null,
   "metadata": {},
   "outputs": [],
   "source": []
  },
  {
   "cell_type": "code",
   "execution_count": null,
   "metadata": {},
   "outputs": [],
   "source": [
    "puzzle.answer_b = ans_b"
   ]
  },
  {
   "cell_type": "markdown",
   "metadata": {},
   "source": [
    "### Day 13"
   ]
  },
  {
   "cell_type": "code",
   "execution_count": null,
   "metadata": {},
   "outputs": [],
   "source": [
    "puzzle=Puzzle(year=2021,day=13)\n",
    "print(puzzle.easter_eggs)\n"
   ]
  },
  {
   "cell_type": "markdown",
   "metadata": {},
   "source": [
    "#### Part a"
   ]
  },
  {
   "cell_type": "code",
   "execution_count": null,
   "metadata": {},
   "outputs": [],
   "source": []
  },
  {
   "cell_type": "code",
   "execution_count": null,
   "metadata": {},
   "outputs": [],
   "source": [
    "puzzle.answer_a = ans_a"
   ]
  },
  {
   "cell_type": "markdown",
   "metadata": {},
   "source": [
    "#### Part b"
   ]
  },
  {
   "cell_type": "code",
   "execution_count": null,
   "metadata": {},
   "outputs": [],
   "source": []
  },
  {
   "cell_type": "code",
   "execution_count": null,
   "metadata": {},
   "outputs": [],
   "source": [
    "puzzle.answer_b = ans_b"
   ]
  },
  {
   "cell_type": "markdown",
   "metadata": {},
   "source": [
    "### Day 12"
   ]
  },
  {
   "cell_type": "code",
   "execution_count": null,
   "metadata": {},
   "outputs": [],
   "source": [
    "puzzle=Puzzle(year=2021,day=12)\n",
    "print(puzzle.easter_eggs)\n"
   ]
  },
  {
   "cell_type": "markdown",
   "metadata": {},
   "source": [
    "#### Part a"
   ]
  },
  {
   "cell_type": "code",
   "execution_count": null,
   "metadata": {},
   "outputs": [],
   "source": []
  },
  {
   "cell_type": "code",
   "execution_count": null,
   "metadata": {},
   "outputs": [],
   "source": [
    "puzzle.answer_a = ans_a"
   ]
  },
  {
   "cell_type": "markdown",
   "metadata": {},
   "source": [
    "#### Part b"
   ]
  },
  {
   "cell_type": "code",
   "execution_count": null,
   "metadata": {},
   "outputs": [],
   "source": []
  },
  {
   "cell_type": "code",
   "execution_count": null,
   "metadata": {},
   "outputs": [],
   "source": [
    "puzzle.answer_b = ans_b"
   ]
  },
  {
   "cell_type": "markdown",
   "metadata": {},
   "source": [
    "### Day 11"
   ]
  },
  {
   "cell_type": "code",
   "execution_count": null,
   "metadata": {},
   "outputs": [],
   "source": [
    "puzzle=Puzzle(year=2021,day=11)\n",
    "print(puzzle.easter_eggs)\n"
   ]
  },
  {
   "cell_type": "markdown",
   "metadata": {},
   "source": [
    "#### Part a"
   ]
  },
  {
   "cell_type": "code",
   "execution_count": null,
   "metadata": {},
   "outputs": [],
   "source": []
  },
  {
   "cell_type": "code",
   "execution_count": null,
   "metadata": {},
   "outputs": [],
   "source": [
    "puzzle.answer_a = ans_a"
   ]
  },
  {
   "cell_type": "markdown",
   "metadata": {},
   "source": [
    "#### Part b"
   ]
  },
  {
   "cell_type": "code",
   "execution_count": null,
   "metadata": {},
   "outputs": [],
   "source": []
  },
  {
   "cell_type": "code",
   "execution_count": null,
   "metadata": {},
   "outputs": [],
   "source": [
    "puzzle.answer_b = ans_b"
   ]
  },
  {
   "cell_type": "markdown",
   "metadata": {},
   "source": [
    "### Day 10"
   ]
  },
  {
   "cell_type": "code",
   "execution_count": null,
   "metadata": {},
   "outputs": [],
   "source": [
    "puzzle=Puzzle(year=2021,day=10)\n",
    "print(puzzle.easter_eggs)\n"
   ]
  },
  {
   "cell_type": "markdown",
   "metadata": {},
   "source": [
    "#### Part a"
   ]
  },
  {
   "cell_type": "code",
   "execution_count": null,
   "metadata": {},
   "outputs": [],
   "source": []
  },
  {
   "cell_type": "code",
   "execution_count": null,
   "metadata": {},
   "outputs": [],
   "source": [
    "puzzle.answer_a = ans_a"
   ]
  },
  {
   "cell_type": "markdown",
   "metadata": {},
   "source": [
    "#### Part b"
   ]
  },
  {
   "cell_type": "code",
   "execution_count": null,
   "metadata": {},
   "outputs": [],
   "source": []
  },
  {
   "cell_type": "code",
   "execution_count": null,
   "metadata": {},
   "outputs": [],
   "source": [
    "puzzle.answer_b = ans_b"
   ]
  },
  {
   "cell_type": "markdown",
   "metadata": {},
   "source": [
    "### Day 9"
   ]
  },
  {
   "cell_type": "code",
   "execution_count": 2,
   "metadata": {},
   "outputs": [],
   "source": [
    "puzzle=Puzzle(year=2021,day=9)"
   ]
  },
  {
   "cell_type": "markdown",
   "metadata": {},
   "source": [
    "#### Part a"
   ]
  },
  {
   "cell_type": "code",
   "execution_count": 7,
   "metadata": {},
   "outputs": [
    {
     "name": "stdout",
     "output_type": "stream",
     "text": [
      "572\n",
      "[<span title=\"This was originally going to be a puzzle about watersheds, but we're already under water.\">settles like rain</span>]\n"
     ]
    }
   ],
   "source": [
    "class Coordinate:\n",
    "    def __init__(self,x:int,y:int) -> None:\n",
    "        self.x=x\n",
    "        self.y=y\n",
    "    \n",
    "    def __eq__(self,other)->bool:\n",
    "        return self.x==other.x and self.y==other.y\n",
    "\n",
    "\n",
    "def find_low_points(grid:np.array)->tp.List[Coordinate]:\n",
    "    return_list=[]\n",
    "    for id_x in range(len(grid)):\n",
    "        for id_y in range(len(grid[0])):\n",
    "            \n",
    "            not_to_check=[]\n",
    "            if id_x==0:\n",
    "                not_to_check.append(\"idx_bot\")\n",
    "            if id_x==len(grid)-1:\n",
    "                not_to_check.append(\"idx_top\")\n",
    "            if id_y==0:\n",
    "                not_to_check.append(\"idy_bot\")\n",
    "            if id_y==len(grid[0])-1:\n",
    "                not_to_check.append(\"idy_top\")\n",
    "            \n",
    "            if (\"idx_bot\" in not_to_check or grid[max(id_x-1,0),id_y] > grid[id_x,id_y]) \\\n",
    "                and (\"idx_top\" in not_to_check or grid[id_x,id_y] < grid[min(id_x+1,len(grid)-1),id_y]) \\\n",
    "                and (\"idy_bot\" in not_to_check or grid[id_x,max(id_y-1,0)] > grid[id_x,id_y]) \\\n",
    "                and (\"idy_top\" in not_to_check or grid[id_x,id_y] < grid[id_x,min(id_y+1,len(grid[0])-1)] ):\n",
    "                    return_list.append(Coordinate(id_x,id_y))\n",
    "    return return_list\n",
    "grid=np.array([list(map(int,[character for character in line])) for line in puzzle.input_data.split(\"\\n\")])\n",
    "#grid=np.array([list(map(int,[character for character in line])) for line in open(\"example_day9.txt\").read().split(\"\\n\")])\n",
    "\n",
    "low_points=find_low_points(grid)\n",
    "ans_a=sum(grid[coor.x,coor.y] for coor in low_points)+len(low_points)\n",
    "print(ans_a)\n",
    "\n",
    "print(puzzle.easter_eggs)\n"
   ]
  },
  {
   "cell_type": "code",
   "execution_count": 4,
   "metadata": {},
   "outputs": [
    {
     "name": "stdout",
     "output_type": "stream",
     "text": [
      "Part a already solved with same answer: 572\n"
     ]
    }
   ],
   "source": [
    "puzzle.answer_a = ans_a"
   ]
  },
  {
   "cell_type": "markdown",
   "metadata": {},
   "source": [
    "#### Part b"
   ]
  },
  {
   "cell_type": "code",
   "execution_count": 5,
   "metadata": {},
   "outputs": [
    {
     "name": "stdout",
     "output_type": "stream",
     "text": [
      "847044\n"
     ]
    }
   ],
   "source": [
    "def find_higher_neighbours(grid:np.array,coor:Coordinate)->tp.List[Coordinate]:\n",
    "    return_list=[]\n",
    "    if coor.x!=0 and 9 > grid[coor.x-1,coor.y]>grid[coor.x,coor.y]:\n",
    "        return_list.append(Coordinate(coor.x-1,coor.y))\n",
    "    if coor.x!=len(grid)-1 and 9 > grid[coor.x+1,coor.y]>grid[coor.x,coor.y]:\n",
    "        return_list.append(Coordinate(coor.x+1,coor.y))\n",
    "    if coor.y!=0 and 9 > grid[coor.x,coor.y-1]>grid[coor.x,coor.y]:\n",
    "        return_list.append(Coordinate(coor.x,coor.y-1))\n",
    "    if coor.y!=len(grid[0])-1 and 9 > grid[coor.x,coor.y+1]>grid[coor.x,coor.y]:\n",
    "        return_list.append(Coordinate(coor.x,coor.y+1))\n",
    "    return return_list\n",
    "\n",
    "\n",
    "bassins=[[coor] for coor in low_points]\n",
    "\n",
    "for i_bassin,low_point in enumerate(low_points):\n",
    "    coords_to_check=[low_point]\n",
    "    while len(coords_to_check)!=0:\n",
    "        new_coords=[coor for coor in find_higher_neighbours(grid,coords_to_check[0]) if not coor in bassins[i_bassin]]\n",
    "        bassins[i_bassin]+=new_coords\n",
    "        coords_to_check=coords_to_check[1:]+new_coords\n",
    "\n",
    "bassins=sorted(bassins,key=len)\n",
    "\n",
    "ans_b=math.prod(list(map(len,bassins[-3:])))\n",
    "\n",
    "print(ans_b)"
   ]
  },
  {
   "cell_type": "code",
   "execution_count": 6,
   "metadata": {},
   "outputs": [],
   "source": [
    "puzzle.answer_b = ans_b"
   ]
  },
  {
   "cell_type": "markdown",
   "metadata": {},
   "source": [
    "### Day 8"
   ]
  },
  {
   "cell_type": "code",
   "execution_count": 8,
   "metadata": {},
   "outputs": [
    {
     "name": "stdout",
     "output_type": "stream",
     "text": [
      "[<span title=\"Yes, just the four-digit seven-segment ones. Whole batch must have been faulty.\">they must have been damaged</span>]\n"
     ]
    }
   ],
   "source": [
    "puzzle=Puzzle(year=2021,day=8)\n",
    "print(puzzle.easter_eggs)\n"
   ]
  },
  {
   "cell_type": "markdown",
   "metadata": {},
   "source": [
    "#### Part a"
   ]
  },
  {
   "cell_type": "code",
   "execution_count": 4,
   "metadata": {},
   "outputs": [
    {
     "name": "stdout",
     "output_type": "stream",
     "text": [
      "495\n"
     ]
    }
   ],
   "source": [
    "reads=puzzle.input_data.split('\\n')\n",
    "\n",
    "ctr_a=0\n",
    "\n",
    "for line in reads:\n",
    "    numbers=line.split(\" | \")[1].split(\" \")\n",
    "    ctr_a+=len([val for val in numbers if len(val)<=4 or len(val)==7])\n",
    "\n",
    "ans_a=ctr_a\n",
    "print(ans_a)"
   ]
  },
  {
   "cell_type": "code",
   "execution_count": 5,
   "metadata": {},
   "outputs": [
    {
     "name": "stdout",
     "output_type": "stream",
     "text": [
      "\u001b[32mThat's the right answer!  You are one gold star closer to finding the sleigh keys. [Continue to Part Two]\u001b[0m\n"
     ]
    }
   ],
   "source": [
    "puzzle.answer_a = ans_a"
   ]
  },
  {
   "cell_type": "markdown",
   "metadata": {},
   "source": [
    "#### Part b"
   ]
  },
  {
   "cell_type": "code",
   "execution_count": 61,
   "metadata": {},
   "outputs": [
    {
     "name": "stdout",
     "output_type": "stream",
     "text": [
      "1055164\n"
     ]
    }
   ],
   "source": [
    "def is_in_other_number(number1:str,number2:str)->bool:\n",
    "    return all([character in number2 for character in number1])\n",
    "\n",
    "def fill_dict(options:tp.List[str])->dict:\n",
    "    encoder={}\n",
    "    encoder[1]=[val for val in options if len(val)==2][0]\n",
    "    encoder[4]=[val for val in options if len(val)==4][0]\n",
    "    encoder[7]=[val for val in options if len(val)==3][0]\n",
    "    encoder[8]=[val for val in options if len(val)==7][0]\n",
    "    encoder[3]=[val for val in options if len(val)==5 and is_in_other_number(encoder[1],val)][0]\n",
    "    encoder[2]=[val for val in options if len(val)==5 and not is_in_other_number(encoder[1],val) and\n",
    "               not is_in_other_number(\"\".join([character for character in encoder[4] if not character in encoder[1]]),val)][0]\n",
    "    encoder[5]=[val for val in options if len(val)==5 and not is_in_other_number(encoder[1],val) and\n",
    "               is_in_other_number(\"\".join([character for character in encoder[4] if not character in encoder[1]]),val)][0]\n",
    "    encoder[0]=[val for val in options if len(val)==6 and not is_in_other_number(encoder[5],val)][0]\n",
    "    encoder[6]=[val for val in options if len(val)==6 and is_in_other_number(encoder[5],val) and not is_in_other_number(encoder[1],val)][0]\n",
    "    encoder[9]=[val for val in options if len(val)==6 and is_in_other_number(encoder[5],val) and is_in_other_number(encoder[1],val)][0]\n",
    "    return encoder\n",
    "\n",
    "def invert_dictionary(encoder:dict)->dict:\n",
    "    wiring={}\n",
    "    for val in encoder:\n",
    "        wiring[encoder[val]]=val\n",
    "    return wiring\n",
    "\n",
    "ctr_b=0\n",
    "for line in reads:\n",
    "    [examples,number_encoded]=line.split(\" | \")\n",
    "    encoder=fill_dict(list(map(lambda x: \"\".join(sorted(x)),examples.split(\" \"))))\n",
    "    wiring=invert_dictionary(encoder)\n",
    "    number=[wiring[\"\".join(sorted(val))] for val in number_encoded.split(\" \")]\n",
    "    number=int(\"\".join([str(val) for val in number]))\n",
    "    ctr_b+=number\n",
    "\n",
    "ans_b=ctr_b\n",
    "print(ans_b)\n"
   ]
  },
  {
   "cell_type": "code",
   "execution_count": 62,
   "metadata": {},
   "outputs": [],
   "source": [
    "puzzle.answer_b = ans_b"
   ]
  },
  {
   "cell_type": "markdown",
   "metadata": {},
   "source": [
    "### Day 7"
   ]
  },
  {
   "cell_type": "code",
   "execution_count": 10,
   "metadata": {},
   "outputs": [
    {
     "name": "stdout",
     "output_type": "stream",
     "text": [
      "[<span title=\"This appears to be due to the modial interaction of magneto-reluctance and capacitive duractance.\">don't burn fuel at a constant rate</span>]\n"
     ]
    }
   ],
   "source": [
    "puzzle=Puzzle(year=2021,day=7)\n",
    "print(puzzle.easter_eggs)\n"
   ]
  },
  {
   "cell_type": "markdown",
   "metadata": {},
   "source": [
    "#### Part a"
   ]
  },
  {
   "cell_type": "code",
   "execution_count": 80,
   "metadata": {},
   "outputs": [
    {
     "name": "stdout",
     "output_type": "stream",
     "text": [
      "362\n",
      "355150\n"
     ]
    }
   ],
   "source": [
    "crabs=list(map(int,puzzle.input_data.split(\",\")))\n",
    "\n",
    "def calc_fuel(crabs:tp.List[int],target:int,power=1):\n",
    "    if power==1:\n",
    "        return sum(abs(pos-target) for pos in crabs)\n",
    "    if power==2:\n",
    "        distances=[abs(pos-target) for pos in crabs]\n",
    "        return sum(pos*(pos+1)/2 for pos in distances)\n",
    "from statistics import median\n",
    "\n",
    "best_pos=0\n",
    "best_fuel=10000000000\n",
    "\n",
    "#for pos in range(max(crabs)):\n",
    "#    new_fuel=calc_fuel(crabs,pos)\n",
    "#    if new_fuel<best_fuel:\n",
    "#        best_fuel=new_fuel\n",
    "#        best_pos=pos\n",
    "\n",
    "best_pos_a=int(median(crabs))\n",
    "\n",
    "print(best_pos_a)\n",
    "ans_a=calc_fuel(crabs,best_pos_a)\n",
    "print(ans_a)"
   ]
  },
  {
   "cell_type": "code",
   "execution_count": 75,
   "metadata": {},
   "outputs": [],
   "source": [
    "puzzle.answer_a = ans_a"
   ]
  },
  {
   "cell_type": "markdown",
   "metadata": {},
   "source": [
    "#### Part b"
   ]
  },
  {
   "cell_type": "code",
   "execution_count": 83,
   "metadata": {},
   "outputs": [
    {
     "name": "stdout",
     "output_type": "stream",
     "text": [
      "499.568 98368490\n"
     ]
    }
   ],
   "source": [
    "best_pos_b=sum(crabs)/len(crabs)\n",
    "\n",
    "\n",
    "ans_b=int(min(calc_fuel(crabs,int(best_pos_b),2),calc_fuel(crabs,int(best_pos_b+1),2)))\n",
    "print(best_pos_b,ans_b)\n"
   ]
  },
  {
   "cell_type": "code",
   "execution_count": 84,
   "metadata": {},
   "outputs": [],
   "source": [
    "puzzle.answer_b = ans_b"
   ]
  },
  {
   "cell_type": "markdown",
   "metadata": {},
   "source": [
    "### Day 6"
   ]
  },
  {
   "cell_type": "code",
   "execution_count": 11,
   "metadata": {},
   "outputs": [
    {
     "name": "stdout",
     "output_type": "stream",
     "text": [
      "[<span title=\"I heard you like lanternfish.\">each lanternfish creates a new lanternfish</span>]\n"
     ]
    }
   ],
   "source": [
    "puzzle=Puzzle(year=2021,day=6)\n",
    "print(puzzle.easter_eggs)\n"
   ]
  },
  {
   "cell_type": "markdown",
   "metadata": {},
   "source": [
    "#### Part a"
   ]
  },
  {
   "cell_type": "code",
   "execution_count": 7,
   "metadata": {},
   "outputs": [
    {
     "name": "stdout",
     "output_type": "stream",
     "text": [
      "395627\n"
     ]
    }
   ],
   "source": [
    "from collections import Counter\n",
    "\n",
    "input_population=[int(val) for val in puzzle.input_data.split(\",\")]\n",
    "#input_population=[int(val) for val in \"3,4,3,1,2\".split(',')]\n",
    "\n",
    "fish=Counter(input_population)\n",
    "\n",
    "def one_generation(fish_pop:Counter)->Counter:\n",
    "    new_pop=Counter()\n",
    "    for age in range(8,0,-1):\n",
    "        new_pop[age-1]=fish_pop[age]\n",
    "    new_pop[6]+=fish_pop[0]\n",
    "    new_pop[8]=fish_pop[0]\n",
    "    return new_pop\n",
    "\n",
    "target_a=80\n",
    "for _ in range(target_a):\n",
    "    fish=one_generation(fish)\n",
    "\n",
    "ans_a=sum(fish.values())\n",
    "print(ans_a)"
   ]
  },
  {
   "cell_type": "code",
   "execution_count": 30,
   "metadata": {},
   "outputs": [
    {
     "name": "stdout",
     "output_type": "stream",
     "text": [
      "\u001b[32mThat's the right answer!  You are one gold star closer to finding the sleigh keys. [Continue to Part Two]\u001b[0m\n"
     ]
    }
   ],
   "source": [
    "puzzle.answer_a = ans_a"
   ]
  },
  {
   "cell_type": "markdown",
   "metadata": {},
   "source": [
    "#### Part b"
   ]
  },
  {
   "cell_type": "code",
   "execution_count": 8,
   "metadata": {},
   "outputs": [
    {
     "name": "stdout",
     "output_type": "stream",
     "text": [
      "1767323539209\n"
     ]
    }
   ],
   "source": [
    "target_b=256\n",
    "fish=Counter(input_population)\n",
    "for _ in range(target_b):\n",
    "    fish=one_generation(fish)\n",
    "\n",
    "ans_b=sum(fish.values())\n",
    "print(ans_b)"
   ]
  },
  {
   "cell_type": "code",
   "execution_count": 34,
   "metadata": {},
   "outputs": [
    {
     "name": "stdout",
     "output_type": "stream",
     "text": [
      "\u001b[32mThat's the right answer!  You are one gold star closer to finding the sleigh keys.You have completed Day 6! You can [Shareon\n",
      "  Twitter\n",
      "Mastodon] this victory or [Return to Your Advent Calendar].\u001b[0m\n"
     ]
    }
   ],
   "source": [
    "puzzle.answer_b = ans_b"
   ]
  },
  {
   "cell_type": "markdown",
   "metadata": {},
   "source": [
    "### Day 5"
   ]
  },
  {
   "cell_type": "code",
   "execution_count": 12,
   "metadata": {},
   "outputs": [
    {
     "name": "stdout",
     "output_type": "stream",
     "text": [
      "[<span title=\"Maybe they're Bresenham vents.\">lines of vents</span>]\n"
     ]
    }
   ],
   "source": [
    "puzzle=Puzzle(year=2021,day=5)\n",
    "print(puzzle.easter_eggs)\n"
   ]
  },
  {
   "cell_type": "markdown",
   "metadata": {},
   "source": [
    "#### Part a"
   ]
  },
  {
   "cell_type": "code",
   "execution_count": 47,
   "metadata": {},
   "outputs": [
    {
     "name": "stdout",
     "output_type": "stream",
     "text": [
      "339\n",
      "[[0. 0. 0. ... 0. 0. 0.]\n",
      " [0. 0. 0. ... 0. 0. 0.]\n",
      " [0. 0. 0. ... 0. 0. 0.]\n",
      " ...\n",
      " [0. 0. 0. ... 0. 0. 0.]\n",
      " [0. 0. 0. ... 0. 0. 0.]\n",
      " [0. 0. 0. ... 0. 0. 0.]]\n",
      "5774\n"
     ]
    }
   ],
   "source": [
    "winds=[line.split(\" -> \") for line in puzzle.input_data.strip().split('\\n')]\n",
    "\n",
    "    \n",
    "class Coordinate:\n",
    "    def __init__(self,x:int,y:int) -> None:\n",
    "        self.x=x\n",
    "        self.y=y\n",
    "    \n",
    "    def __eq__(self,other:Coordinate)->bool:\n",
    "        return self.x==other.x and self.y==other.y\n",
    "\n",
    "\n",
    "        \n",
    "class Wind:\n",
    "    def __init__(self,start_point:Coordinate,end_point:Coordinate) -> None:\n",
    "        self.start_point=start_point\n",
    "        self.end_point=end_point\n",
    "        \n",
    "    def get_coords(self) -> tp.List[Coordinate]:\n",
    "        n_points=max(abs(self.start_point.x-self.end_point.x),abs(self.start_point.y-self.end_point.y))\n",
    "        for n in range(n_points+1):\n",
    "            if abs((self.start_point.x+n*(self.end_point.x-self.start_point.x)/(n_points))%1)>0.0000001:\n",
    "                print(\"shit)\")\n",
    "            if abs((self.start_point.y+n*(self.end_point.y-self.start_point.y)/(n_points))%1>0.0000001):\n",
    "                print(\"shit 2\")\n",
    "        return [Coordinate(int(self.start_point.x+n*(self.end_point.x-self.start_point.x)/(n_points)),\n",
    "                     int(self.start_point.y+n*(self.end_point.y-self.start_point.y)/(n_points))) for n in range(n_points+1)]\n",
    "\n",
    "    def is_straight(self) -> bool:\n",
    "        if self.start_point.x==self.end_point.x or self.start_point.y==self.end_point.y:\n",
    "            return True\n",
    "        else:\n",
    "            #print(\"no\",self.start_point.x-self.end_point.x,self.start_point.y-self.end_point.y)\n",
    "            return False\n",
    "\n",
    "\n",
    "#winds=[line.split(\" -> \") for line in open(\"example_day5.txt\").read().strip().split('\\n')]\n",
    "#print(len(winds))\n",
    "        \n",
    "winds=[Wind(Coordinate(int(line[0].split(',')[0]),int(line[0].split(',')[1])),Coordinate(int(line[1].split(',')[0]),int(line[1].split(',')[1]))) for line in winds]     \n",
    "\n",
    "#print(winds[8].start_point.x,winds[8].start_point.y,winds[8].end_point.x,winds[8].end_point.y,winds[8].is_straight())\n",
    "\n",
    "grid=np.zeros((max([max(wind.start_point.y,wind.end_point.y) for wind in winds])+1,max([max(wind.start_point.x,wind.end_point.x) for wind in winds])+1))\n",
    "\n",
    "test_wind1=Wind(Coordinate(0,35),Coordinate(0,13))\n",
    "#print(test_wind1.is_straight())\n",
    "ctr=0\n",
    "#for coord in test_wind1.get_coords():\n",
    "    #print(coord.x,coord.y)\n",
    "    #ctr+=1\n",
    "\n",
    "total_sum=0\n",
    "for wind in winds:\n",
    "    if wind.is_straight():\n",
    "        total_sum+=(abs(wind.start_point.x-wind.end_point.x)+abs(wind.start_point.y-wind.end_point.y)+1)\n",
    "        ctr+=1\n",
    "        for coord in wind.get_coords():\n",
    "            grid[coord.y,coord.x]+=1\n",
    "#    else:\n",
    "#        np.set_printoptions(threshold=sys.maxsize)\n",
    "#        print(np.nonzero(grid))\n",
    "#        print(wind.start_point.x,wind.start_point.y)\n",
    "#        asadasd\n",
    "print(ctr)\n",
    "\n",
    "\n",
    "print(grid)\n",
    "#print(sum(sum(grid)),total_sum)\n",
    "ans_a=len([val for val in grid.flatten() if val>1])\n",
    "print(ans_a)\n",
    "#def find_intersect(wind1:wind,wind2:wind) -> [bool,tp.List[coord]]:\n",
    "    "
   ]
  },
  {
   "cell_type": "code",
   "execution_count": null,
   "metadata": {},
   "outputs": [],
   "source": []
  },
  {
   "cell_type": "code",
   "execution_count": 4,
   "metadata": {},
   "outputs": [
    {
     "name": "stdout",
     "output_type": "stream",
     "text": [
      "\u001b[32mThat's the right answer!  You are one gold star closer to finding the sleigh keys. [Continue to Part Two]\u001b[0m\n"
     ]
    }
   ],
   "source": [
    "puzzle.answer_a = ans_a"
   ]
  },
  {
   "cell_type": "markdown",
   "metadata": {},
   "source": [
    "#### Part b"
   ]
  },
  {
   "cell_type": "code",
   "execution_count": 9,
   "metadata": {},
   "outputs": [
    {
     "name": "stdout",
     "output_type": "stream",
     "text": [
      "18423\n"
     ]
    }
   ],
   "source": [
    "ctr=0\n",
    "grid=np.zeros((max([max(wind.start_point.y,wind.end_point.y) for wind in winds])+1,max([max(wind.start_point.x,wind.end_point.x) for wind in winds])+1))\n",
    "for wind in winds:\n",
    "    total_sum+=(abs(wind.start_point.x-wind.end_point.x)+abs(wind.start_point.y-wind.end_point.y)+1)\n",
    "    ctr+=1\n",
    "    for coord in wind.get_coords():\n",
    "        grid[coord.y,coord.x]+=1\n",
    "ans_b=len([val for val in grid.flatten() if val>1])\n",
    "print(ans_b)\n"
   ]
  },
  {
   "cell_type": "code",
   "execution_count": 10,
   "metadata": {},
   "outputs": [
    {
     "name": "stdout",
     "output_type": "stream",
     "text": [
      "\u001b[32mThat's the right answer!  You are one gold star closer to finding the sleigh keys.You have completed Day 5! You can [Shareon\n",
      "  Twitter\n",
      "Mastodon] this victory or [Return to Your Advent Calendar].\u001b[0m\n"
     ]
    }
   ],
   "source": [
    "puzzle.answer_b = ans_b"
   ]
  },
  {
   "cell_type": "markdown",
   "metadata": {},
   "source": [
    "### Day 4"
   ]
  },
  {
   "cell_type": "code",
   "execution_count": 13,
   "metadata": {},
   "outputs": [
    {
     "name": "stdout",
     "output_type": "stream",
     "text": [
      "[<span title=\"That's 'cuz a submarine don't pull things' antennas out of their sockets when they lose. Giant squid are known to do that.\">let the giant squid win</span>]\n"
     ]
    }
   ],
   "source": [
    "puzzle=Puzzle(year=2021,day=4)\n",
    "print(puzzle.easter_eggs)\n"
   ]
  },
  {
   "cell_type": "markdown",
   "metadata": {},
   "source": [
    "#### Part a"
   ]
  },
  {
   "cell_type": "code",
   "execution_count": null,
   "metadata": {},
   "outputs": [],
   "source": [
    "input_data=puzzle.input_data.split('\\n\\n')\n",
    "\n",
    "drawn_numbers=[int(number) for number in input_data[0].split(',')]\n",
    "boards=input_data[1:]\n",
    "\n",
    "class bingo_board:\n",
    "    def __init__(self,list_of_numbers:str) -> None:\n",
    "        self.board_numbers=np.array([[int(number) for number in line.strip().split()] for line in list_of_numbers.split('\\n')])\n",
    "    \n",
    "    def check_row(self,id_row:int,list_of_numbers:tp.List[int]):\n",
    "        if all([number in list_of_numbers for number in self.board_numbers[id_row,:]]):\n",
    "            return True\n",
    "        else:\n",
    "            return False\n",
    "    def check_col(self,id_col:int,list_of_numbers:tp.List[int]):\n",
    "        self.board_numbers=np.transpose(self.board_numbers)\n",
    "        return_value=self.check_row(id_col,list_of_numbers)\n",
    "        self.board_numbers=np.transpose(self.board_numbers)\n",
    "        return return_value\n",
    "    \n",
    "    def check_win(self,list_of_numbers:tp.List[int]):\n",
    "        if any([self.check_col(idx,list_of_numbers) or self.check_row(idx,list_of_numbers) for idx in range(len(self.board_numbers))]):\n",
    "            return True\n",
    "        else:\n",
    "            return False\n",
    "\n",
    "boards=[bingo_board(board) for board in boards]\n",
    "\n",
    "def play_game_well(bingo_boards:tp.List[bingo_board],drawn_numbers:tp.List[int]):\n",
    "    for n_drawn in range(len(bingo_boards[0].board_numbers),len(drawn_numbers)):\n",
    "        for board in bingo_boards:\n",
    "            if(board.check_win(drawn_numbers[:n_drawn])):\n",
    "                return [board,n_drawn]\n",
    "\n",
    "\n",
    "[board,n_drawn]=play_game_well(boards,drawn_numbers)\n",
    "score=sum([number for number in  board.board_numbers.flat if not number in drawn_numbers[:n_drawn]])*drawn_numbers[n_drawn-1]\n",
    "ans_a=score\n",
    "print(score)"
   ]
  },
  {
   "cell_type": "code",
   "execution_count": null,
   "metadata": {},
   "outputs": [],
   "source": [
    "puzzle.answer_a = ans_a"
   ]
  },
  {
   "cell_type": "markdown",
   "metadata": {},
   "source": [
    "#### Part b"
   ]
  },
  {
   "cell_type": "code",
   "execution_count": null,
   "metadata": {},
   "outputs": [],
   "source": [
    "def play_game_badly(bingo_boards:tp.List[bingo_board],drawn_numbers:tp.List[int]):\n",
    "    worst_n_drawn=0\n",
    "    for id_board,board in enumerate(bingo_boards):\n",
    "        [bad_board,n_win]=play_game_well([board],drawn_numbers)\n",
    "        if n_win>worst_n_drawn:\n",
    "            worst_n_drawn=n_win\n",
    "            worst_board=bad_board\n",
    "    return [worst_board,worst_n_drawn]\n",
    "\n",
    "[board,n_drawn]=play_game_badly(boards,drawn_numbers)\n",
    "score=sum([number for number in  board.board_numbers.flat if not number in drawn_numbers[:n_drawn]])*drawn_numbers[n_drawn-1]\n",
    "ans_b=score\n",
    "print(score)"
   ]
  },
  {
   "cell_type": "code",
   "execution_count": null,
   "metadata": {},
   "outputs": [],
   "source": [
    "puzzle.answer_b = ans_b"
   ]
  },
  {
   "cell_type": "markdown",
   "metadata": {},
   "source": [
    "### Day 3"
   ]
  },
  {
   "cell_type": "code",
   "execution_count": 14,
   "metadata": {},
   "outputs": [
    {
     "name": "stdout",
     "output_type": "stream",
     "text": [
      "[<span title=\"Turns out oceans are heavy.\">odd creaking noises</span>]\n"
     ]
    }
   ],
   "source": [
    "puzzle=Puzzle(year=2021,day=3)\n",
    "print(puzzle.easter_eggs)\n"
   ]
  },
  {
   "cell_type": "markdown",
   "metadata": {},
   "source": [
    "#### Part a"
   ]
  },
  {
   "cell_type": "code",
   "execution_count": null,
   "metadata": {},
   "outputs": [],
   "source": [
    "import timeit\n",
    "\n",
    "diagnostics=puzzle.input_data.strip().split('\\n')\n",
    "\n",
    "def most_common(diagnostics: tp.List[str],position:int) -> str:\n",
    "    all_bits=[diag[position] for diag in diagnostics]\n",
    "    return max(sorted(set(all_bits),reverse=True), key = all_bits.count)\n",
    "\n",
    "def least_common(diagnostics: tp.List[str],position:int) -> str:\n",
    "    return str(1-int(most_common(diagnostics,position)))\n",
    "\n",
    "gamma=\"\"\n",
    "for position in range(len(diagnostics[0])):\n",
    "    gamma+=most_common(diagnostics,position)\n",
    "\n",
    "gamma=int(gamma,2)\n",
    "\n",
    "\n",
    "print(timeit.timeit(lambda: 2**(len(diagnostics[0]))-1-gamma,number=100000))\n",
    "epsilon=2**(len(diagnostics[0]))-1-gamma\n",
    "\n",
    "ans_a=gamma*epsilon\n",
    "print(ans_a)"
   ]
  },
  {
   "cell_type": "markdown",
   "metadata": {},
   "source": [
    "#### Nao's solution for timeit"
   ]
  },
  {
   "cell_type": "code",
   "execution_count": null,
   "metadata": {},
   "outputs": [],
   "source": [
    "from collections import Counter\n",
    "content = puzzle.input_data.split(\"\\n\")\n",
    "def transpose(inlist: tp.Sequence[str]) -> tp.List[str]: \n",
    "    return [\"\".join(s) for s in zip(*inlist)]\n",
    "def bin2int(binary: tp.Union[str, tp.Sequence[str]]) -> int: \n",
    "    if isinstance(binary, list): \n",
    "        return int(\"\".join(binary),2)\n",
    "    return int(binary, 2)\n",
    "counters = [Counter(pos) for pos in transpose(content)]\n",
    "gamma = [\"0\" if c[\"0\"]>c[\"1\"] else \"1\" for c in counters]\n",
    "print(timeit.timeit(lambda:''.join(str(1-int(x)) for x in gamma)))\n",
    "eps=''.join(str(1-int(x)) for x in gamma)\n",
    "answ = bin2int(gamma) * bin2int(eps)\n",
    "answ\n",
    "#submit(answ, part=\"a\", day=3, year=2021)\n"
   ]
  },
  {
   "cell_type": "code",
   "execution_count": null,
   "metadata": {},
   "outputs": [],
   "source": []
  },
  {
   "cell_type": "code",
   "execution_count": null,
   "metadata": {},
   "outputs": [],
   "source": [
    "gamma=4\n",
    "print(timeit.timeit(lambda: (~gamma & 0xFFFFFF),number=100000))"
   ]
  },
  {
   "cell_type": "code",
   "execution_count": null,
   "metadata": {},
   "outputs": [],
   "source": [
    "puzzle.answer_a = ans_a"
   ]
  },
  {
   "cell_type": "markdown",
   "metadata": {},
   "source": [
    "#### Part b"
   ]
  },
  {
   "cell_type": "code",
   "execution_count": null,
   "metadata": {},
   "outputs": [],
   "source": [
    "def keep_criteria(diagnostics: tp.List[str],position:int,criteria:int) -> tp.List[str]:\n",
    "    return list(filter(lambda x:x[position]==criteria,diagnostics))\n",
    "\n",
    "ctr_position=0\n",
    "oxygen=diagnostics\n",
    "CO2=diagnostics\n",
    "\n",
    "for position in range(len(diagnostics[0])):\n",
    "    new_oxygen=keep_criteria(oxygen,position,most_common(oxygen,position))\n",
    "    if len(new_oxygen)!=0:\n",
    "        oxygen=new_oxygen\n",
    "    new_CO2=keep_criteria(CO2,position,least_common(CO2,position))\n",
    "    if len(new_CO2)!=0:\n",
    "        CO2=new_CO2\n",
    "    ctr_position+=1\n",
    "oxygen=oxygen[0]\n",
    "CO2=CO2[0]\n",
    "\n",
    "ans_b=int(oxygen,2)*int(CO2,2)\n",
    "print(ans_b)"
   ]
  },
  {
   "cell_type": "code",
   "execution_count": null,
   "metadata": {},
   "outputs": [],
   "source": [
    "puzzle.answer_b = ans_b"
   ]
  },
  {
   "cell_type": "markdown",
   "metadata": {},
   "source": [
    "### Day 2"
   ]
  },
  {
   "cell_type": "code",
   "execution_count": 15,
   "metadata": {},
   "outputs": [
    {
     "name": "stdout",
     "output_type": "stream",
     "text": [
      "[<span title=\"Tank, I need a pilot program for a B212 helicopter.\">pilot this thing</span>]\n"
     ]
    }
   ],
   "source": [
    "puzzle=Puzzle(year=2021,day=2)\n",
    "print(puzzle.easter_eggs)\n"
   ]
  },
  {
   "cell_type": "markdown",
   "metadata": {},
   "source": [
    "#### Part a"
   ]
  },
  {
   "cell_type": "code",
   "execution_count": null,
   "metadata": {},
   "outputs": [],
   "source": [
    "from abc import ABC,abstractmethod\n",
    "\n",
    "class submarine(ABC):\n",
    "    def __init__(self,depth=0,hor_pos=0):\n",
    "        self.depth=depth\n",
    "        self.hor_pos=hor_pos\n",
    "    @abstractmethod\n",
    "    def movement(self,direction:str, amount:int) -> None:\n",
    "        raise notImplementedError(self.__class__.name+\"movement\")\n",
    "    \n",
    "    \n",
    "class submarine_noob(submarine):\n",
    "    \n",
    "    def movement(self,direction, amount):\n",
    "        if direction==\"up\":\n",
    "            self.depth-=amount\n",
    "        elif direction==\"down\":\n",
    "            self.depth+=amount\n",
    "        elif direction==\"forward\":\n",
    "            self.hor_pos+=amount\n",
    "        else:\n",
    "            raise Exception(\"going in an unknown direction\")\n",
    "\n",
    "\n",
    "jack_sparrow=submarine_noob()\n",
    "movements=puzzle.input_data.strip().split('\\n')\n",
    "\n",
    "for trajectory in movements:\n",
    "    direction,amount=trajectory.split(' ')\n",
    "    jack_sparrow.movement(direction,int(amount))\n",
    "\n",
    "ans_a=jack_sparrow.depth*jack_sparrow.hor_pos"
   ]
  },
  {
   "cell_type": "code",
   "execution_count": null,
   "metadata": {},
   "outputs": [],
   "source": [
    "puzzle.answer_a = ans_a\n",
    "#submit(answer=ans_a,day=2,part=\"a\",year=2021)"
   ]
  },
  {
   "cell_type": "markdown",
   "metadata": {},
   "source": [
    "#### Part b"
   ]
  },
  {
   "cell_type": "code",
   "execution_count": null,
   "metadata": {},
   "outputs": [],
   "source": [
    "class submarine_pro(submarine):\n",
    "\n",
    "    def __init__(self,depth=0,hor_pos=0,aim=0):\n",
    "        super().__init__(depth,hor_pos)\n",
    "        self.aim=aim\n",
    "    \n",
    "    def movement(self,direction:str, amount:int):\n",
    "        if direction==\"up\":\n",
    "            self.aim-=amount\n",
    "        elif direction==\"down\":\n",
    "            self.aim+=amount\n",
    "        elif direction==\"forward\":\n",
    "            self.hor_pos+=amount\n",
    "            self.depth+=self.aim*amount\n",
    "        else:\n",
    "            raise Exception(\"going in an unknown direction\")\n",
    "\n",
    "            \n",
    "            \n",
    "cousteau=submarine_pro()\n",
    "\n",
    "movements=puzzle.input_data.strip().split('\\n')\n",
    "\n",
    "for trajectory in movements:\n",
    "    direction,amount=trajectory.split(' ')\n",
    "    cousteau.movement(direction,int(amount))\n",
    "\n",
    "ans_b=cousteau.depth*cousteau.hor_pos"
   ]
  },
  {
   "cell_type": "code",
   "execution_count": null,
   "metadata": {},
   "outputs": [],
   "source": [
    "puzzle.answer_b = ans_b"
   ]
  },
  {
   "cell_type": "markdown",
   "metadata": {},
   "source": [
    "### Day 1"
   ]
  },
  {
   "cell_type": "code",
   "execution_count": 16,
   "metadata": {},
   "outputs": [
    {
     "name": "stdout",
     "output_type": "stream",
     "text": [
      "[<span title=\"Does this premise seem fishy to you?\">carried into deeper water</span>]\n"
     ]
    }
   ],
   "source": [
    "puzzle=Puzzle(year=2021,day=1)\n",
    "print(puzzle.easter_eggs)\n"
   ]
  },
  {
   "cell_type": "code",
   "execution_count": null,
   "metadata": {},
   "outputs": [],
   "source": [
    "# depths=[int(dep) for dep in open(\"day1_input1.txt\").read().strip().split('\\n')]\n",
    "\n",
    "depths=[int(dep) for dep in puzzle.input_data.strip().split('\\n')]\n",
    "\n",
    "def count_increase(depths: tp.Sequence[int],sliding_window: int) -> int:\n",
    "    ctr_depth=0\n",
    "    depth=sum(depths[:sliding_window])\n",
    "    for i in range(len(depths)-sliding_window):\n",
    "        if depths[i+sliding_window]>depths[i]:\n",
    "            ctr_depth+=1\n",
    "    return ctr_depth\n",
    "\n"
   ]
  },
  {
   "cell_type": "code",
   "execution_count": null,
   "metadata": {},
   "outputs": [],
   "source": [
    "ans_a=count_increase(depths,1)\n",
    "ans_b=count_increase(depths,3)\n",
    "\n",
    "submit(answer=ans_a,day=1,part=\"a\",year=2021)\n",
    "submit(answer=ans_b,day=1,part=\"b\",year=2021)\n"
   ]
  },
  {
   "cell_type": "code",
   "execution_count": null,
   "metadata": {},
   "outputs": [],
   "source": []
  }
 ],
 "metadata": {
  "kernelspec": {
   "display_name": "Python 3",
   "language": "python",
   "name": "python3"
  },
  "language_info": {
   "codemirror_mode": {
    "name": "ipython",
    "version": 3
   },
   "file_extension": ".py",
   "mimetype": "text/x-python",
   "name": "python",
   "nbconvert_exporter": "python",
   "pygments_lexer": "ipython3",
   "version": "3.8.5"
  }
 },
 "nbformat": 4,
 "nbformat_minor": 4
}
